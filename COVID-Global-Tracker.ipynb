{
 "cells": [
  {
   "cell_type": "code",
   "execution_count": null,
   "id": "377d46bb",
   "metadata": {},
   "outputs": [],
   "source": [
    "# Import the libraries\n",
    "import pandas as pd\n",
    "import numpy as np\n",
    "import matplotlib.pyplot as plt\n",
    "import seaborn as sns\n",
    "import plotly.express as px"
   ]
  },
  {
   "cell_type": "code",
   "execution_count": null,
   "id": "9d666fa8",
   "metadata": {},
   "outputs": [],
   "source": [
    "# Load the dataset\n",
    "url = \"https://covid.ourworldindata.org/data/owid-covid-data.csv\"\n",
    "covid_df = pd.read_csv(url)\n",
    "\n",
    "# Initial check\n",
    "print(\"Dataset shape:\", covid_df.shape)\n",
    "print(\"\\nColumns:\", covid_df.columns.tolist())\n",
    "print(\"\\nMissing values:\\n\", covid_df.isnull().sum().sort_values(ascending=False).head(20))\n",
    "print(\"\\nSample data:\")\n",
    "covid_df.head()"
   ]
  },
  {
   "cell_type": "code",
   "execution_count": null,
   "id": "d74ee4e7",
   "metadata": {},
   "outputs": [],
   "source": [
    "# Convert date column to datetime\n",
    "covid_df['date'] = pd.to_datetime(covid_df['date'])\n",
    "\n",
    "# Select key columns and countries of interest\n",
    "key_columns = ['date', 'location', 'total_cases', 'new_cases', 'total_deaths', \n",
    "               'new_deaths', 'total_vaccinations', 'people_vaccinated', \n",
    "               'population', 'life_expectancy']\n",
    "\n",
    "countries = ['Kenya', 'United States', 'India', 'United Kingdom', 'Brazil', 'South Africa']\n",
    "\n",
    "# Filter data\n",
    "clean_df = covid_df[covid_df['location'].isin(countries)][key_columns]\n",
    "\n",
    "# Handle missing values - forward fill for time series data\n",
    "clean_df = clean_df.groupby('location').apply(lambda x: x.ffill())\n",
    "clean_df = clean_df.reset_index(drop=True)\n",
    "\n",
    "# Calculate additional metrics\n",
    "clean_df['death_rate'] = clean_df['total_deaths'] / clean_df['total_cases']\n",
    "clean_df['vaccination_rate'] = clean_df['people_vaccinated'] / clean_df['population']"
   ]
  },
  {
   "cell_type": "code",
   "execution_count": null,
   "id": "c37fedb5",
   "metadata": {},
   "outputs": [],
   "source": [
    "# Plot total cases over time\n",
    "plt.figure(figsize=(12, 6))\n",
    "sns.lineplot(data=clean_df, x='date', y='total_cases', hue='location')\n",
    "plt.title('Total COVID-19 Cases Over Time')\n",
    "plt.ylabel('Total Cases (millions)')\n",
    "plt.yscale('log')\n",
    "plt.show()\n",
    "\n",
    "# Plot total deaths over time\n",
    "plt.figure(figsize=(12, 6))\n",
    "sns.lineplot(data=clean_df, x='date', y='total_deaths', hue='location')\n",
    "plt.title('Total COVID-19 Deaths Over Time')\n",
    "plt.ylabel('Total Deaths')\n",
    "plt.show()\n",
    "\n",
    "# Compare death rates\n",
    "latest_data = clean_df.groupby('location').last().reset_index()\n",
    "plt.figure(figsize=(10, 6))\n",
    "sns.barplot(data=latest_data, x='location', y='death_rate')\n",
    "plt.title('Case Fatality Rate by Country')\n",
    "plt.ylabel('Death Rate (deaths/cases)')\n",
    "plt.xticks(rotation=45)\n",
    "plt.show()"
   ]
  },
  {
   "cell_type": "code",
   "execution_count": null,
   "id": "c4095aa6",
   "metadata": {},
   "outputs": [],
   "source": [
    "# Plot vaccination progress\n",
    "plt.figure(figsize=(12, 6))\n",
    "sns.lineplot(data=clean_df, x='date', y='vaccination_rate', hue='location')\n",
    "plt.title('Vaccination Progress Over Time')\n",
    "plt.ylabel('Percentage of Population Vaccinated')\n",
    "plt.show()\n",
    "\n",
    "# Latest vaccination status\n",
    "latest_vacc = latest_data.sort_values('vaccination_rate', ascending=False)\n",
    "plt.figure(figsize=(10, 6))\n",
    "sns.barplot(data=latest_vacc, x='location', y='vaccination_rate')\n",
    "plt.title('Percentage of Population Vaccinated by Country')\n",
    "plt.ylabel('Vaccination Rate')\n",
    "plt.xticks(rotation=45)\n",
    "plt.show()"
   ]
  },
  {
   "cell_type": "code",
   "execution_count": null,
   "id": "5f2cb3bf",
   "metadata": {},
   "outputs": [],
   "source": [
    "# Prepare data for choropleth\n",
    "latest_global = covid_df.groupby(['iso_code', 'location']).last().reset_index()\n",
    "\n",
    "# Create choropleth for total cases per million\n",
    "fig = px.choropleth(latest_global, \n",
    "                    locations=\"iso_code\",\n",
    "                    color=\"total_cases_per_million\",\n",
    "                    hover_name=\"location\",\n",
    "                    color_continuous_scale=px.colors.sequential.Plasma,\n",
    "                    title=\"Total COVID-19 Cases Per Million People\")\n",
    "fig.show()\n",
    "\n",
    "# Create choropleth for vaccination rates\n",
    "fig = px.choropleth(latest_global, \n",
    "                    locations=\"iso_code\",\n",
    "                    color=\"people_vaccinated_per_hundred\",\n",
    "                    hover_name=\"location\",\n",
    "                    color_continuous_scale=px.colors.sequential.Viridis,\n",
    "                    title=\"Percentage of Population Vaccinated\")\n",
    "fig.show()"
   ]
  }
 ],
 "metadata": {
  "language_info": {
   "name": "python"
  }
 },
 "nbformat": 4,
 "nbformat_minor": 5
}
